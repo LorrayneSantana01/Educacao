{
  "nbformat": 4,
  "nbformat_minor": 0,
  "metadata": {
    "colab": {
      "provenance": [],
      "authorship_tag": "ABX9TyMK8jfy/RAge+vxOIyxy0gO",
      "include_colab_link": true
    },
    "kernelspec": {
      "name": "python3",
      "display_name": "Python 3"
    },
    "language_info": {
      "name": "python"
    }
  },
  "cells": [
    {
      "cell_type": "markdown",
      "metadata": {
        "id": "view-in-github",
        "colab_type": "text"
      },
      "source": [
        "<a href=\"https://colab.research.google.com/github/LorrayneSantana01/Educacao/blob/main/teste_pratico_dti.ipynb\" target=\"_parent\"><img src=\"https://colab.research.google.com/assets/colab-badge.svg\" alt=\"Open In Colab\"/></a>"
      ]
    },
    {
      "cell_type": "code",
      "execution_count": 57,
      "metadata": {
        "id": "FQPZmZUOYarH"
      },
      "outputs": [],
      "source": [
        "caso_1 = {\n",
        "  'nums1': [1,2,3,0,0,0],\n",
        "  'm': 3,\n",
        "  'nums2': [2,5,6],\n",
        "  'n': 3\n",
        "}\n",
        "\n",
        "caso_2 = {\n",
        "  'nums1': [1],\n",
        "  'm': 1,\n",
        "  'nums2': [],\n",
        "  'n': 0\n",
        "}\n",
        "\n",
        "caso_3 = {\n",
        "  'nums1': [0],\n",
        "  'm': 0,\n",
        "  'nums2': [1],\n",
        "  'n': 1\n",
        "}"
      ]
    },
    {
      "cell_type": "code",
      "source": [
        "def remove_zeros(array):\n",
        "  array_sem_zeros = []\n",
        "  for x in array:\n",
        "    if x !=0:\n",
        "      array_sem_zeros.append(x)\n",
        "  return array_sem_zeros"
      ],
      "metadata": {
        "id": "rYowodGJdQWE"
      },
      "execution_count": 58,
      "outputs": []
    },
    {
      "cell_type": "code",
      "source": [
        "def ordena(array1, array2, tamanho_array_1, tamanho_array_2):\n",
        "  array_final = []\n",
        "  contador = 0\n",
        "  if tamanho_array_1 > 0 and tamanho_array_2 > 0:\n",
        "    while (contador < tamanho_array_1):\n",
        "      if array1[contador] > array2[0]:\n",
        "        array_final.append(array2[0])\n",
        "        array2.pop(0)\n",
        "      else:\n",
        "        array_final.append(array1[contador])\n",
        "        contador = contador + 1\n",
        "    return array_final + array2\n",
        "  else:\n",
        "    return array1 + array2"
      ],
      "metadata": {
        "id": "hYRAeGrZgbJ3"
      },
      "execution_count": 59,
      "outputs": []
    },
    {
      "cell_type": "code",
      "source": [
        "def ordena_dois_arrays(nums1, nums2, m, n):\n",
        "  array1_sem_zeros = remove_zeros(nums1)\n",
        "  array2_sem_zeros = remove_zeros(nums2)\n",
        "  return ordena(array1_sem_zeros, array2_sem_zeros, m, n)"
      ],
      "metadata": {
        "id": "ICY_eNMLbh2l"
      },
      "execution_count": 60,
      "outputs": []
    },
    {
      "cell_type": "code",
      "source": [
        "ordena_dois_arrays(caso_1['nums1'], caso_1['nums2'], caso_1['m'], caso_1['n'])"
      ],
      "metadata": {
        "colab": {
          "base_uri": "https://localhost:8080/"
        },
        "id": "HAAhZqnvc7mA",
        "outputId": "368b0095-d8fb-4648-fca6-faf6b6cc446a"
      },
      "execution_count": 61,
      "outputs": [
        {
          "output_type": "execute_result",
          "data": {
            "text/plain": [
              "[1, 2, 2, 3, 5, 6]"
            ]
          },
          "metadata": {},
          "execution_count": 61
        }
      ]
    },
    {
      "cell_type": "code",
      "source": [
        "ordena_dois_arrays(caso_2['nums1'], caso_2['nums2'], caso_2['m'], caso_2['n'])"
      ],
      "metadata": {
        "colab": {
          "base_uri": "https://localhost:8080/"
        },
        "id": "WrWYM7f0o2D0",
        "outputId": "2fedba0b-8cae-4412-9038-48bf16c66d14"
      },
      "execution_count": 62,
      "outputs": [
        {
          "output_type": "execute_result",
          "data": {
            "text/plain": [
              "[1]"
            ]
          },
          "metadata": {},
          "execution_count": 62
        }
      ]
    },
    {
      "cell_type": "code",
      "source": [
        "ordena_dois_arrays(caso_3['nums1'], caso_3['nums2'], caso_3['m'], caso_3['n'])"
      ],
      "metadata": {
        "colab": {
          "base_uri": "https://localhost:8080/"
        },
        "id": "2MeU4Uqfo7Jf",
        "outputId": "11d7bfb7-5041-4657-ca90-ae42eddc6115"
      },
      "execution_count": 63,
      "outputs": [
        {
          "output_type": "execute_result",
          "data": {
            "text/plain": [
              "[1]"
            ]
          },
          "metadata": {},
          "execution_count": 63
        }
      ]
    }
  ]
}